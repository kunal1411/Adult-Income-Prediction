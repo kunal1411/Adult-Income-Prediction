{
 "cells": [
  {
   "cell_type": "code",
   "execution_count": 1,
   "metadata": {},
   "outputs": [
    {
     "data": {
      "text/html": [
       "<script type=\"text/javascript\">window.PlotlyConfig = {MathJaxConfig: 'local'};</script><script type=\"text/javascript\">if (window.MathJax) {MathJax.Hub.Config({SVG: {font: \"STIX-Web\"}});}</script><script>requirejs.config({paths: { 'plotly': ['https://cdn.plot.ly/plotly-latest.min']},});if(!window._Plotly) {require(['plotly'],function(plotly) {window._Plotly=plotly;});}</script>"
      ],
      "text/vnd.plotly.v1+html": [
       "<script type=\"text/javascript\">window.PlotlyConfig = {MathJaxConfig: 'local'};</script><script type=\"text/javascript\">if (window.MathJax) {MathJax.Hub.Config({SVG: {font: \"STIX-Web\"}});}</script><script>requirejs.config({paths: { 'plotly': ['https://cdn.plot.ly/plotly-latest.min']},});if(!window._Plotly) {require(['plotly'],function(plotly) {window._Plotly=plotly;});}</script>"
      ]
     },
     "metadata": {},
     "output_type": "display_data"
    },
    {
     "data": {
      "text/html": [
       "<style>.container { width:90% !important; }</style>"
      ],
      "text/plain": [
       "<IPython.core.display.HTML object>"
      ]
     },
     "metadata": {},
     "output_type": "display_data"
    }
   ],
   "source": [
    "import pandas as pd\n",
    "import numpy as np\n",
    "import matplotlib.pyplot as plt\n",
    "#import plotly.plotly as py\n",
    "import plotly.graph_objs as go\n",
    "import warnings\n",
    "from plotly.offline import download_plotlyjs, init_notebook_mode, plot, iplot\n",
    "import seaborn as sns\n",
    "import os\n",
    "import time\n",
    "\n",
    "#Setting options\n",
    "init_notebook_mode(connected=True)\n",
    "warnings.filterwarnings(\"ignore\")\n",
    "\n",
    "#Set Default option\n",
    "from IPython.core.display import display, HTML\n",
    "display(HTML(\"<style>.container { width:90% !important; }</style>\"))\n",
    "pd.options.display.max_rows = 3000"
   ]
  },
  {
   "cell_type": "code",
   "execution_count": 2,
   "metadata": {},
   "outputs": [],
   "source": [
    "energy = pd.read_csv('C:/Users/rishu/Documents/OneDrive/Desktop/ML/energydata_complete.csv')"
   ]
  },
  {
   "cell_type": "code",
   "execution_count": 3,
   "metadata": {},
   "outputs": [
    {
     "data": {
      "text/html": [
       "<div>\n",
       "<style scoped>\n",
       "    .dataframe tbody tr th:only-of-type {\n",
       "        vertical-align: middle;\n",
       "    }\n",
       "\n",
       "    .dataframe tbody tr th {\n",
       "        vertical-align: top;\n",
       "    }\n",
       "\n",
       "    .dataframe thead th {\n",
       "        text-align: right;\n",
       "    }\n",
       "</style>\n",
       "<table border=\"1\" class=\"dataframe\">\n",
       "  <thead>\n",
       "    <tr style=\"text-align: right;\">\n",
       "      <th></th>\n",
       "      <th>date</th>\n",
       "      <th>Appliances</th>\n",
       "      <th>lights</th>\n",
       "      <th>T1</th>\n",
       "      <th>RH_1</th>\n",
       "      <th>T2</th>\n",
       "      <th>RH_2</th>\n",
       "      <th>T3</th>\n",
       "      <th>RH_3</th>\n",
       "      <th>T4</th>\n",
       "      <th>...</th>\n",
       "      <th>T9</th>\n",
       "      <th>RH_9</th>\n",
       "      <th>T_out</th>\n",
       "      <th>Press_mm_hg</th>\n",
       "      <th>RH_out</th>\n",
       "      <th>Windspeed</th>\n",
       "      <th>Visibility</th>\n",
       "      <th>Tdewpoint</th>\n",
       "      <th>rv1</th>\n",
       "      <th>rv2</th>\n",
       "    </tr>\n",
       "  </thead>\n",
       "  <tbody>\n",
       "    <tr>\n",
       "      <th>0</th>\n",
       "      <td>2016-01-11 17:00:00</td>\n",
       "      <td>60</td>\n",
       "      <td>30</td>\n",
       "      <td>19.89</td>\n",
       "      <td>47.596667</td>\n",
       "      <td>19.2</td>\n",
       "      <td>44.790000</td>\n",
       "      <td>19.79</td>\n",
       "      <td>44.730000</td>\n",
       "      <td>19.000000</td>\n",
       "      <td>...</td>\n",
       "      <td>17.033333</td>\n",
       "      <td>45.53</td>\n",
       "      <td>6.600000</td>\n",
       "      <td>733.5</td>\n",
       "      <td>92.0</td>\n",
       "      <td>7.000000</td>\n",
       "      <td>63.000000</td>\n",
       "      <td>5.3</td>\n",
       "      <td>13.275433</td>\n",
       "      <td>13.275433</td>\n",
       "    </tr>\n",
       "    <tr>\n",
       "      <th>1</th>\n",
       "      <td>2016-01-11 17:10:00</td>\n",
       "      <td>60</td>\n",
       "      <td>30</td>\n",
       "      <td>19.89</td>\n",
       "      <td>46.693333</td>\n",
       "      <td>19.2</td>\n",
       "      <td>44.722500</td>\n",
       "      <td>19.79</td>\n",
       "      <td>44.790000</td>\n",
       "      <td>19.000000</td>\n",
       "      <td>...</td>\n",
       "      <td>17.066667</td>\n",
       "      <td>45.56</td>\n",
       "      <td>6.483333</td>\n",
       "      <td>733.6</td>\n",
       "      <td>92.0</td>\n",
       "      <td>6.666667</td>\n",
       "      <td>59.166667</td>\n",
       "      <td>5.2</td>\n",
       "      <td>18.606195</td>\n",
       "      <td>18.606195</td>\n",
       "    </tr>\n",
       "    <tr>\n",
       "      <th>2</th>\n",
       "      <td>2016-01-11 17:20:00</td>\n",
       "      <td>50</td>\n",
       "      <td>30</td>\n",
       "      <td>19.89</td>\n",
       "      <td>46.300000</td>\n",
       "      <td>19.2</td>\n",
       "      <td>44.626667</td>\n",
       "      <td>19.79</td>\n",
       "      <td>44.933333</td>\n",
       "      <td>18.926667</td>\n",
       "      <td>...</td>\n",
       "      <td>17.000000</td>\n",
       "      <td>45.50</td>\n",
       "      <td>6.366667</td>\n",
       "      <td>733.7</td>\n",
       "      <td>92.0</td>\n",
       "      <td>6.333333</td>\n",
       "      <td>55.333333</td>\n",
       "      <td>5.1</td>\n",
       "      <td>28.642668</td>\n",
       "      <td>28.642668</td>\n",
       "    </tr>\n",
       "    <tr>\n",
       "      <th>3</th>\n",
       "      <td>2016-01-11 17:30:00</td>\n",
       "      <td>50</td>\n",
       "      <td>40</td>\n",
       "      <td>19.89</td>\n",
       "      <td>46.066667</td>\n",
       "      <td>19.2</td>\n",
       "      <td>44.590000</td>\n",
       "      <td>19.79</td>\n",
       "      <td>45.000000</td>\n",
       "      <td>18.890000</td>\n",
       "      <td>...</td>\n",
       "      <td>17.000000</td>\n",
       "      <td>45.40</td>\n",
       "      <td>6.250000</td>\n",
       "      <td>733.8</td>\n",
       "      <td>92.0</td>\n",
       "      <td>6.000000</td>\n",
       "      <td>51.500000</td>\n",
       "      <td>5.0</td>\n",
       "      <td>45.410389</td>\n",
       "      <td>45.410389</td>\n",
       "    </tr>\n",
       "    <tr>\n",
       "      <th>4</th>\n",
       "      <td>2016-01-11 17:40:00</td>\n",
       "      <td>60</td>\n",
       "      <td>40</td>\n",
       "      <td>19.89</td>\n",
       "      <td>46.333333</td>\n",
       "      <td>19.2</td>\n",
       "      <td>44.530000</td>\n",
       "      <td>19.79</td>\n",
       "      <td>45.000000</td>\n",
       "      <td>18.890000</td>\n",
       "      <td>...</td>\n",
       "      <td>17.000000</td>\n",
       "      <td>45.40</td>\n",
       "      <td>6.133333</td>\n",
       "      <td>733.9</td>\n",
       "      <td>92.0</td>\n",
       "      <td>5.666667</td>\n",
       "      <td>47.666667</td>\n",
       "      <td>4.9</td>\n",
       "      <td>10.084097</td>\n",
       "      <td>10.084097</td>\n",
       "    </tr>\n",
       "  </tbody>\n",
       "</table>\n",
       "<p>5 rows × 29 columns</p>\n",
       "</div>"
      ],
      "text/plain": [
       "                  date  Appliances  lights     T1       RH_1    T2       RH_2  \\\n",
       "0  2016-01-11 17:00:00          60      30  19.89  47.596667  19.2  44.790000   \n",
       "1  2016-01-11 17:10:00          60      30  19.89  46.693333  19.2  44.722500   \n",
       "2  2016-01-11 17:20:00          50      30  19.89  46.300000  19.2  44.626667   \n",
       "3  2016-01-11 17:30:00          50      40  19.89  46.066667  19.2  44.590000   \n",
       "4  2016-01-11 17:40:00          60      40  19.89  46.333333  19.2  44.530000   \n",
       "\n",
       "      T3       RH_3         T4    ...             T9   RH_9     T_out  \\\n",
       "0  19.79  44.730000  19.000000    ...      17.033333  45.53  6.600000   \n",
       "1  19.79  44.790000  19.000000    ...      17.066667  45.56  6.483333   \n",
       "2  19.79  44.933333  18.926667    ...      17.000000  45.50  6.366667   \n",
       "3  19.79  45.000000  18.890000    ...      17.000000  45.40  6.250000   \n",
       "4  19.79  45.000000  18.890000    ...      17.000000  45.40  6.133333   \n",
       "\n",
       "   Press_mm_hg  RH_out  Windspeed  Visibility  Tdewpoint        rv1        rv2  \n",
       "0        733.5    92.0   7.000000   63.000000        5.3  13.275433  13.275433  \n",
       "1        733.6    92.0   6.666667   59.166667        5.2  18.606195  18.606195  \n",
       "2        733.7    92.0   6.333333   55.333333        5.1  28.642668  28.642668  \n",
       "3        733.8    92.0   6.000000   51.500000        5.0  45.410389  45.410389  \n",
       "4        733.9    92.0   5.666667   47.666667        4.9  10.084097  10.084097  \n",
       "\n",
       "[5 rows x 29 columns]"
      ]
     },
     "execution_count": 3,
     "metadata": {},
     "output_type": "execute_result"
    }
   ],
   "source": [
    "energy.head()"
   ]
  },
  {
   "cell_type": "code",
   "execution_count": 4,
   "metadata": {},
   "outputs": [
    {
     "data": {
      "text/plain": [
       "(19735, 29)"
      ]
     },
     "execution_count": 4,
     "metadata": {},
     "output_type": "execute_result"
    }
   ],
   "source": [
    "energy.shape"
   ]
  },
  {
   "cell_type": "code",
   "execution_count": 5,
   "metadata": {},
   "outputs": [],
   "source": [
    "energy.drop(['date'],axis=1,inplace=True)\n",
    "energy.drop(['T_out','T9','rv2','lights'],axis=1,inplace=True)"
   ]
  },
  {
   "cell_type": "markdown",
   "metadata": {},
   "source": [
    "# Modeling"
   ]
  },
  {
   "cell_type": "markdown",
   "metadata": {},
   "source": [
    "### Converting to binary"
   ]
  },
  {
   "cell_type": "code",
   "execution_count": 6,
   "metadata": {},
   "outputs": [],
   "source": [
    "energy['high'] = pd.cut(energy['Appliances'], bins=[0,100,float('Inf')], labels=['low', 'high'])    \n",
    "energy.drop(['Appliances'],axis=1,inplace = True)"
   ]
  },
  {
   "cell_type": "code",
   "execution_count": 7,
   "metadata": {},
   "outputs": [
    {
     "data": {
      "text/plain": [
       "low     15502\n",
       "high     4233\n",
       "Name: high, dtype: int64"
      ]
     },
     "execution_count": 7,
     "metadata": {},
     "output_type": "execute_result"
    }
   ],
   "source": [
    "energy['high'].value_counts()"
   ]
  },
  {
   "cell_type": "code",
   "execution_count": 8,
   "metadata": {},
   "outputs": [],
   "source": [
    "from sklearn.model_selection import train_test_split\n",
    "from sklearn import preprocessing"
   ]
  },
  {
   "cell_type": "code",
   "execution_count": 9,
   "metadata": {},
   "outputs": [],
   "source": [
    "from sklearn.preprocessing import StandardScaler\n",
    "ss = StandardScaler()"
   ]
  },
  {
   "cell_type": "code",
   "execution_count": 10,
   "metadata": {},
   "outputs": [],
   "source": [
    "#Train-Test split 70:30\n",
    "X_train, X_test, y_train, y_test = train_test_split(energy.iloc[:,:-1], energy['high'],\n",
    "                                                test_size=0.25)"
   ]
  },
  {
   "cell_type": "code",
   "execution_count": 11,
   "metadata": {},
   "outputs": [
    {
     "data": {
      "text/plain": [
       "(14801, 23)"
      ]
     },
     "execution_count": 11,
     "metadata": {},
     "output_type": "execute_result"
    }
   ],
   "source": [
    "X_train.shape"
   ]
  },
  {
   "cell_type": "code",
   "execution_count": 12,
   "metadata": {},
   "outputs": [
    {
     "data": {
      "text/plain": [
       "(4934, 23)"
      ]
     },
     "execution_count": 12,
     "metadata": {},
     "output_type": "execute_result"
    }
   ],
   "source": [
    "X_test.shape"
   ]
  },
  {
   "cell_type": "code",
   "execution_count": 13,
   "metadata": {},
   "outputs": [
    {
     "data": {
      "text/plain": [
       "(14801,)"
      ]
     },
     "execution_count": 13,
     "metadata": {},
     "output_type": "execute_result"
    }
   ],
   "source": [
    "y_train.shape"
   ]
  },
  {
   "cell_type": "code",
   "execution_count": 14,
   "metadata": {},
   "outputs": [],
   "source": [
    "#scaling the features \n",
    "X_train = ss.fit_transform(X_train)"
   ]
  },
  {
   "cell_type": "code",
   "execution_count": 15,
   "metadata": {},
   "outputs": [],
   "source": [
    "X_test = ss.fit_transform(X_test)"
   ]
  },
  {
   "cell_type": "code",
   "execution_count": 16,
   "metadata": {},
   "outputs": [],
   "source": [
    "from sklearn.metrics import accuracy_score\n",
    "from sklearn.metrics import confusion_matrix\n",
    "from sklearn.linear_model import LogisticRegression\n",
    "import sklearn as sk\n",
    "from sklearn import preprocessing, model_selection, metrics\n",
    "from sklearn.model_selection import train_test_split\n",
    "from sklearn import svm\n",
    "from sklearn.metrics import accuracy_score\n",
    "from sklearn.tree import DecisionTreeClassifier\n",
    "from sklearn.metrics import confusion_matrix \n",
    "from sklearn.metrics import classification_report \n",
    "from sklearn.ensemble import AdaBoostClassifier \n",
    "from sklearn.datasets import load_digits\n",
    "from sklearn.model_selection import learning_curve\n",
    "from sklearn.model_selection import KFold, cross_val_score"
   ]
  },
  {
   "cell_type": "markdown",
   "metadata": {},
   "source": [
    "# SVM"
   ]
  },
  {
   "cell_type": "code",
   "execution_count": 17,
   "metadata": {},
   "outputs": [],
   "source": [
    "from sklearn.model_selection import cross_validate"
   ]
  },
  {
   "cell_type": "code",
   "execution_count": 18,
   "metadata": {},
   "outputs": [],
   "source": [
    "def a(clf,X_train, y_train):\n",
    "    scores = cross_validate(clf, X_train, y_train,cv=3, return_train_score=True)\n",
    "    return scores\n",
    "\n",
    "## Linear Kernel Function vaaries of C ( Margin Parameter)\n",
    "clf = svm.SVC(kernel='linear', C=0.1)\n",
    "score1=a(clf,X_train,y_train)\n",
    "clf = svm.SVC(kernel='linear', C=1)\n",
    "score2=a(clf,X_train,y_train)\n",
    "clf = svm.SVC(kernel='linear', C=10)\n",
    "score3=a(clf,X_train,y_train)\n",
    "clf = svm.SVC(kernel='linear', C=100)\n",
    "score4=a(clf,X_train,y_train)"
   ]
  },
  {
   "cell_type": "code",
   "execution_count": 19,
   "metadata": {},
   "outputs": [
    {
     "name": "stdout",
     "output_type": "stream",
     "text": [
      "{'fit_time': array([5.15753412, 4.42960644, 4.86180663]), 'score_time': array([0.67351723, 0.77196431, 0.73467278]), 'test_score': array([0.78678557, 0.79590596, 0.78816136]), 'train_score': array([0.78635857, 0.80531063, 0.78830563])}\n",
      "{'fit_time': array([10.1250329 ,  7.76617932,  9.2685709 ]), 'score_time': array([0.74601269, 0.64367533, 0.68781185]), 'test_score': array([0.78759627, 0.80299959, 0.79505372]), 'train_score': array([0.78767609, 0.81037803, 0.79266315])}\n",
      "{'fit_time': array([46.38439417, 30.86170864, 36.16346908]), 'score_time': array([0.63635468, 0.78689885, 0.70116568]), 'test_score': array([0.7882043 , 0.80360762, 0.79505372]), 'train_score': array([0.7874734 , 0.81108746, 0.79327118])}\n",
      "{'fit_time': array([464.15739155, 205.88349271, 538.78150392]), 'score_time': array([0.69010234, 0.79288054, 0.7659719 ]), 'test_score': array([0.78962302, 0.80340495, 0.79525644]), 'train_score': array([0.78970305, 0.81108746, 0.79327118])}\n"
     ]
    }
   ],
   "source": [
    "print(score1)\n",
    "print(score2)\n",
    "print(score3)\n",
    "print(score4)"
   ]
  },
  {
   "cell_type": "code",
   "execution_count": 20,
   "metadata": {},
   "outputs": [],
   "source": [
    "s1=pd.DataFrame.from_dict(score1)\n",
    "s2=pd.DataFrame.from_dict(score2)\n",
    "s3=pd.DataFrame.from_dict(score3)\n",
    "s4=pd.DataFrame.from_dict(score4)"
   ]
  },
  {
   "cell_type": "code",
   "execution_count": 21,
   "metadata": {},
   "outputs": [],
   "source": [
    "## Train and Test Accuracy for Linear SVM Kernel function\n",
    "s1_linear_test=[s1[['test_score']].mean(axis=0),s2[['test_score']].mean(axis=0),s3[['test_score']].mean(axis=0),s4[['test_score']].mean(axis=0)]\n",
    "s1_linear_train=[s1[['train_score']].mean(axis=0),s2[['train_score']].mean(axis=0),s3[['train_score']].mean(axis=0),s4[['train_score']].mean(axis=0)]\n",
    "c=[0.1,1,10,100]"
   ]
  },
  {
   "cell_type": "code",
   "execution_count": 22,
   "metadata": {},
   "outputs": [
    {
     "data": {
      "text/plain": [
       "Text(0.5, 1.0, 'Train and CrossValidation accuracy for SVM_Linear kernel as a function of C')"
      ]
     },
     "execution_count": 22,
     "metadata": {},
     "output_type": "execute_result"
    },
    {
     "data": {
      "image/png": "[encoded data removed]",
      "text/plain": [
       "<Figure size 432x288 with 1 Axes>"
      ]
     },
     "metadata": {
      "needs_background": "light"
     },
     "output_type": "display_data"
    }
   ],
   "source": [
    "## Learning curve for Train and Test accuracy for Linear SVM function for various values of C\n",
    "plt.plot(c,s1_linear_train,label='train')\n",
    "plt.plot(c,s1_linear_test,label='cv')\n",
    "plt.xlabel(\"C(Regularization Parameter)\")\n",
    "plt.ylabel(\"Accuracy\")\n",
    "plt.legend(loc='lower right')\n",
    "plt.title(\"Train and CrossValidation accuracy for SVM_Linear kernel as a function of C\")"
   ]
  },
  {
   "cell_type": "code",
   "execution_count": null,
   "metadata": {},
   "outputs": [],
   "source": []
  },
  {
   "cell_type": "code",
   "execution_count": 23,
   "metadata": {},
   "outputs": [],
   "source": [
    "clf = svm.SVC(kernel='rbf', C=0.1)\n",
    "score5=a(clf,X_train,y_train)\n",
    "clf = svm.SVC(kernel='rbf', C=1)\n",
    "score6=a(clf,X_train,y_train)"
   ]
  },
  {
   "cell_type": "code",
   "execution_count": 24,
   "metadata": {},
   "outputs": [
    {
     "name": "stdout",
     "output_type": "stream",
     "text": [
      "{'fit_time': array([5.14720225, 4.81709409, 5.50826836]), 'score_time': array([1.38230395, 1.3613565 , 1.29553246]), 'test_score': array([0.78577219, 0.7873936 , 0.78775593]), 'train_score': array([0.78645992, 0.78899362, 0.7873936 ])}\n",
      "{'fit_time': array([4.54584193, 5.09736466, 5.15820336]), 'score_time': array([1.26162481, 1.31452751, 1.32750225]), 'test_score': array([0.84029185, 0.83481962, 0.83012366]), 'train_score': array([0.8458498 , 0.85061315, 0.84920957])}\n"
     ]
    }
   ],
   "source": [
    "print(score5)\n",
    "print(score6)"
   ]
  },
  {
   "cell_type": "code",
   "execution_count": 25,
   "metadata": {},
   "outputs": [],
   "source": [
    "s5=pd.DataFrame.from_dict(score5)\n",
    "s6=pd.DataFrame.from_dict(score6)"
   ]
  },
  {
   "cell_type": "code",
   "execution_count": 26,
   "metadata": {},
   "outputs": [],
   "source": [
    "## Train and Test Accuracy for rbf SVM Kernel function\n",
    "s1_rbf_test=[s5[['test_score']].mean(axis=0),s6[['test_score']].mean(axis=0)]\n",
    "s1_rbf_train=[s5[['train_score']].mean(axis=0),s6[['train_score']].mean(axis=0)]\n",
    "C=[0.1,1]"
   ]
  },
  {
   "cell_type": "code",
   "execution_count": 27,
   "metadata": {},
   "outputs": [
    {
     "data": {
      "text/plain": [
       "Text(0.5, 1.0, 'Train and CrossValidation accuracy for SVM_rbf kernel as a function of C')"
      ]
     },
     "execution_count": 27,
     "metadata": {},
     "output_type": "execute_result"
    },
    {
     "data": {
      "image/png": "[encoded data removed]",
      "text/plain": [
       "<Figure size 432x288 with 1 Axes>"
      ]
     },
     "metadata": {
      "needs_background": "light"
     },
     "output_type": "display_data"
    }
   ],
   "source": [
    "plt.plot(C,s1_rbf_train,label='train')\n",
    "plt.plot(C,s1_rbf_test,label='cv')\n",
    "plt.xlabel(\"degree\")\n",
    "plt.ylabel(\"Accuracy\")\n",
    "plt.legend(loc='upper left')\n",
    "plt.title(\"Train and CrossValidation accuracy for SVM_rbf kernel as a function of C\")"
   ]
  },
  {
   "cell_type": "code",
   "execution_count": null,
   "metadata": {},
   "outputs": [],
   "source": []
  },
  {
   "cell_type": "code",
   "execution_count": 28,
   "metadata": {},
   "outputs": [],
   "source": [
    "## Support Vector Machine with Sigmoid function\n",
    "clf = svm.SVC(kernel='sigmoid', C=0.1)\n",
    "score8=a(clf,X_train,y_train)\n",
    "clf = svm.SVC(kernel='sigmoid', C=1)\n",
    "score9=a(clf,X_train,y_train)\n",
    "clf = svm.SVC(kernel='sigmoid', C=10)\n",
    "score10=a(clf,X_train,y_train)\n",
    "clf = svm.SVC(kernel='sigmoid', C=100)\n",
    "score11=a(clf,X_train,y_train)"
   ]
  },
  {
   "cell_type": "code",
   "execution_count": 29,
   "metadata": {},
   "outputs": [
    {
     "name": "stdout",
     "output_type": "stream",
     "text": [
      "{'fit_time': array([4.7742312 , 6.55314946, 7.41616273]), 'score_time': array([1.23016   , 1.38813448, 1.43217111]), 'test_score': array([0.71199838, 0.7249696 , 0.71173728]), 'train_score': array([0.71906355, 0.72027972, 0.69933117])}\n",
      "{'fit_time': array([3.94045806, 5.6040051 , 6.72401524]), 'score_time': array([1.32652521, 1.32645249, 1.3334341 ]), 'test_score': array([0.68463721, 0.70044589, 0.70220961]), 'train_score': array([0.69261174, 0.69301713, 0.6913255 ])}\n",
      "{'fit_time': array([4.23566842, 5.54317498, 6.54049993]), 'score_time': array([1.3144846 , 1.30749989, 1.30550885]), 'test_score': array([0.68179976, 0.69578435, 0.70139874]), 'train_score': array([0.69048343, 0.69068613, 0.68858938])}\n",
      "{'fit_time': array([3.68115187, 5.58505583, 5.83239865]), 'score_time': array([1.28057742, 1.30850434, 1.30954957]), 'test_score': array([0.68098906, 0.69558168, 0.68801946]), 'train_score': array([0.69028073, 0.69028073, 0.68899473])}\n"
     ]
    }
   ],
   "source": [
    "print(score8)\n",
    "print(score9)\n",
    "print(score10)\n",
    "print(score11)"
   ]
  },
  {
   "cell_type": "code",
   "execution_count": 30,
   "metadata": {},
   "outputs": [],
   "source": [
    "s8=pd.DataFrame.from_dict(score8)\n",
    "s9=pd.DataFrame.from_dict(score9)\n",
    "s10=pd.DataFrame.from_dict(score10)\n",
    "s11=pd.DataFrame.from_dict(score11)"
   ]
  },
  {
   "cell_type": "code",
   "execution_count": 31,
   "metadata": {},
   "outputs": [],
   "source": [
    "## Train and Test accuracy for sigmoid Kernel function \n",
    "s1_sig_test=[s8[['test_score']].mean(axis=0),s9[['test_score']].mean(axis=0),s10[['test_score']].mean(axis=0),s11[['test_score']].mean(axis=0)]\n",
    "s1_sig_train=[s8[['train_score']].mean(axis=0),s9[['train_score']].mean(axis=0),s10[['train_score']].mean(axis=0),s11[['train_score']].mean(axis=0)]\n",
    "C=[0.1,1,10,100]"
   ]
  },
  {
   "cell_type": "code",
   "execution_count": 32,
   "metadata": {},
   "outputs": [
    {
     "data": {
      "text/plain": [
       "Text(0.5, 1.0, 'Train and CrossValidation accuracy for SVM_sigmoid kernel as a function of C')"
      ]
     },
     "execution_count": 32,
     "metadata": {},
     "output_type": "execute_result"
    },
    {
     "data": {
      "image/png": "[encoded data removed]",
      "text/plain": [
       "<Figure size 432x288 with 1 Axes>"
      ]
     },
     "metadata": {
      "needs_background": "light"
     },
     "output_type": "display_data"
    }
   ],
   "source": [
    "plt.plot(C,s1_sig_train,label='train')\n",
    "plt.plot(C,s1_sig_test,label='cv')\n",
    "plt.xlabel(\"C(Regularization Parameter)\")\n",
    "plt.ylabel(\"Accuracy\")\n",
    "plt.legend(loc='upper right')\n",
    "plt.title(\"Train and CrossValidation accuracy for SVM_sigmoid kernel as a function of C\")"
   ]
  },
  {
   "cell_type": "code",
   "execution_count": null,
   "metadata": {},
   "outputs": [],
   "source": []
  },
  {
   "cell_type": "code",
   "execution_count": 33,
   "metadata": {},
   "outputs": [
    {
     "data": {
      "text/plain": [
       "SVC(C=0.1, cache_size=200, class_weight=None, coef0=0.0,\n",
       "    decision_function_shape='ovr', degree=3, gamma='auto_deprecated',\n",
       "    kernel='sigmoid', max_iter=-1, probability=False, random_state=None,\n",
       "    shrinking=True, tol=0.001, verbose=False)"
      ]
     },
     "execution_count": 33,
     "metadata": {},
     "output_type": "execute_result"
    }
   ],
   "source": [
    "#### Fitting the functions on the complete training set with best parameters\n",
    "## SVM Functions \n",
    "clf1 = svm.SVC(kernel='linear', C=10)\n",
    "clf1.fit(X_train,y_train)\n",
    "\n",
    "clf2 = svm.SVC(kernel='rbf', C=1)\n",
    "clf2.fit(X_train,y_train)\n",
    "\n",
    "clf3 = svm.SVC(kernel='sigmoid', C=0.1)\n",
    "clf3.fit(X_train,y_train)"
   ]
  },
  {
   "cell_type": "code",
   "execution_count": 34,
   "metadata": {},
   "outputs": [],
   "source": [
    "y_pred1=clf1.predict(X_test)\n",
    "y_pred2=clf2.predict(X_test)\n",
    "y_pred3=clf3.predict(X_test)"
   ]
  },
  {
   "cell_type": "code",
   "execution_count": 35,
   "metadata": {},
   "outputs": [
    {
     "name": "stdout",
     "output_type": "stream",
     "text": [
      "[[  81  966]\n",
      " [  29 3858]]\n",
      "              precision    recall  f1-score   support\n",
      "\n",
      "        high       0.74      0.08      0.14      1047\n",
      "         low       0.80      0.99      0.89      3887\n",
      "\n",
      "    accuracy                           0.80      4934\n",
      "   macro avg       0.77      0.53      0.51      4934\n",
      "weighted avg       0.79      0.80      0.73      4934\n",
      "\n",
      "0.7983380624239967\n"
     ]
    }
   ],
   "source": [
    "## for SVM-Linear\n",
    "print(confusion_matrix(y_test,y_pred1))  \n",
    "print(classification_report(y_test,y_pred1))\n",
    "print(accuracy_score(y_test,y_pred1))"
   ]
  },
  {
   "cell_type": "code",
   "execution_count": 36,
   "metadata": {},
   "outputs": [
    {
     "name": "stdout",
     "output_type": "stream",
     "text": [
      "Cross-validation score:[0.78325456 0.79391892 0.79391892 0.78040541 0.80810811 0.78851351\n",
      " 0.80337838 0.79527027 0.79256757 0.81351351]\n",
      "\n",
      "Average Cross-validation score:0.7952849152325857\n",
      "\n"
     ]
    }
   ],
   "source": [
    "#Applying K-fold cross validation with 10 splits for model trained with clf1\n",
    "from sklearn.model_selection import KFold\n",
    "from sklearn.model_selection import cross_val_score\n",
    "kfold = KFold(n_splits=10)\n",
    "score=cross_val_score(clf1,X = X_train, y = y_train, cv=kfold)\n",
    "print('Cross-validation score:{}\\n'.format(score))\n",
    "print('Average Cross-validation score:{}\\n'.format(score.mean()))"
   ]
  },
  {
   "cell_type": "code",
   "execution_count": 37,
   "metadata": {},
   "outputs": [
    {
     "name": "stdout",
     "output_type": "stream",
     "text": [
      "[[ 406  641]\n",
      " [ 125 3762]]\n",
      "              precision    recall  f1-score   support\n",
      "\n",
      "        high       0.76      0.39      0.51      1047\n",
      "         low       0.85      0.97      0.91      3887\n",
      "\n",
      "    accuracy                           0.84      4934\n",
      "   macro avg       0.81      0.68      0.71      4934\n",
      "weighted avg       0.84      0.84      0.82      4934\n",
      "\n",
      "0.8447507093635995\n"
     ]
    }
   ],
   "source": [
    "## for SVM-rbf\n",
    "print(confusion_matrix(y_test,y_pred2))  \n",
    "print(classification_report(y_test,y_pred2))\n",
    "print(accuracy_score(y_test,y_pred2))"
   ]
  },
  {
   "cell_type": "code",
   "execution_count": 38,
   "metadata": {},
   "outputs": [
    {
     "name": "stdout",
     "output_type": "stream",
     "text": [
      "Cross-validation score:[0.83524646 0.85       0.84256757 0.83581081 0.8472973  0.84189189\n",
      " 0.84256757 0.84324324 0.83175676 0.83716216]\n",
      "\n",
      "Average Cross-validation score:0.8407543752395205\n",
      "\n"
     ]
    }
   ],
   "source": [
    "#Applying K-fold cross validation with 10 splits for model trained with clf2\n",
    "from sklearn.model_selection import KFold\n",
    "from sklearn.model_selection import cross_val_score\n",
    "kfold = KFold(n_splits=10)\n",
    "score=cross_val_score(clf2,X = X_train, y = y_train, cv=kfold)\n",
    "print('Cross-validation score:{}\\n'.format(score))\n",
    "print('Average Cross-validation score:{}\\n'.format(score.mean()))"
   ]
  },
  {
   "cell_type": "code",
   "execution_count": 39,
   "metadata": {},
   "outputs": [
    {
     "name": "stdout",
     "output_type": "stream",
     "text": [
      "[[ 277  770]\n",
      " [ 616 3271]]\n",
      "              precision    recall  f1-score   support\n",
      "\n",
      "        high       0.31      0.26      0.29      1047\n",
      "         low       0.81      0.84      0.83      3887\n",
      "\n",
      "    accuracy                           0.72      4934\n",
      "   macro avg       0.56      0.55      0.56      4934\n",
      "weighted avg       0.70      0.72      0.71      4934\n",
      "\n",
      "0.7190920145926226\n"
     ]
    }
   ],
   "source": [
    "## for SVM Sigmoid\n",
    "print(confusion_matrix(y_test,y_pred3))  \n",
    "print(classification_report(y_test,y_pred3))\n",
    "print(accuracy_score(y_test,y_pred3))"
   ]
  },
  {
   "cell_type": "code",
   "execution_count": 40,
   "metadata": {},
   "outputs": [
    {
     "name": "stdout",
     "output_type": "stream",
     "text": [
      "Cross-validation score:[0.701553   0.71486486 0.71283784 0.68918919 0.73040541 0.70540541\n",
      " 0.72162162 0.72432432 0.71013514 0.71283784]\n",
      "\n",
      "Average Cross-validation score:0.7123174626348158\n",
      "\n"
     ]
    }
   ],
   "source": [
    "#Applying K-fold cross validation with 10 splits for model trained with clf3\n",
    "from sklearn.model_selection import KFold\n",
    "from sklearn.model_selection import cross_val_score\n",
    "kfold = KFold(n_splits=10)\n",
    "score=cross_val_score(clf3,X = X_train, y = y_train, cv=kfold)\n",
    "print('Cross-validation score:{}\\n'.format(score))\n",
    "print('Average Cross-validation score:{}\\n'.format(score.mean()))"
   ]
  },
  {
   "cell_type": "code",
   "execution_count": null,
   "metadata": {},
   "outputs": [],
   "source": []
  },
  {
   "cell_type": "markdown",
   "metadata": {},
   "source": [
    "# Decision Tree"
   ]
  },
  {
   "cell_type": "code",
   "execution_count": 41,
   "metadata": {},
   "outputs": [],
   "source": [
    "#Decision Tree\n",
    "def dec_tree(X_train, y_train, depth): \n",
    "    tree = DecisionTreeClassifier(criterion = \"gini\", \n",
    "            random_state = 100,max_depth=depth) \n",
    "    tree.fit(X_train, y_train)\n",
    "    return tree"
   ]
  },
  {
   "cell_type": "code",
   "execution_count": 42,
   "metadata": {},
   "outputs": [],
   "source": [
    "def pred(X_test, tree_object):\n",
    "    y_pred = tree_object.predict(X_test)  \n",
    "    return y_pred\n",
    "\n",
    "def cal_accuracy(y_test, y_pred):\n",
    "    print(\"Confusion Matrix: \",confusion_matrix(y_test, y_pred)) \n",
    "    print (\"Accuracy Score: \", accuracy_score(y_test,y_pred)*100) \n",
    "    print(\"Classsification Report: \", classification_report(y_test, y_pred))"
   ]
  },
  {
   "cell_type": "code",
   "execution_count": 43,
   "metadata": {},
   "outputs": [
    {
     "name": "stdout",
     "output_type": "stream",
     "text": [
      "Confusion Matrix:  [[ 710  337]\n",
      " [ 312 3575]]\n",
      "Accuracy Score:  86.84637211187678\n",
      "Classsification Report:                precision    recall  f1-score   support\n",
      "\n",
      "        high       0.69      0.68      0.69      1047\n",
      "         low       0.91      0.92      0.92      3887\n",
      "\n",
      "    accuracy                           0.87      4934\n",
      "   macro avg       0.80      0.80      0.80      4934\n",
      "weighted avg       0.87      0.87      0.87      4934\n",
      "\n"
     ]
    }
   ],
   "source": [
    "tree = DecisionTreeClassifier(criterion = \"gini\", random_state = 100)\n",
    "tree.fit(X_train, y_train) \n",
    "y_pred = pred(X_test, tree)\n",
    "cal_accuracy(y_test, y_pred)"
   ]
  },
  {
   "cell_type": "code",
   "execution_count": 44,
   "metadata": {},
   "outputs": [
    {
     "name": "stdout",
     "output_type": "stream",
     "text": [
      "Accuracy on training set: 1.000\n",
      "Accuracy on test set: 0.868\n"
     ]
    }
   ],
   "source": [
    "print(\"Accuracy on training set: {:.3f}\".format(tree.score(X_train, y_train)))\n",
    "print(\"Accuracy on test set: {:.3f}\".format(tree.score(X_test, y_test)))"
   ]
  },
  {
   "cell_type": "code",
   "execution_count": 45,
   "metadata": {},
   "outputs": [
    {
     "name": "stdout",
     "output_type": "stream",
     "text": [
      "26\n"
     ]
    }
   ],
   "source": [
    "print(tree.tree_.max_depth)"
   ]
  },
  {
   "cell_type": "code",
   "execution_count": 46,
   "metadata": {},
   "outputs": [
    {
     "data": {
      "image/png": "[encoded data removed]",
      "text/plain": [
       "<Figure size 432x288 with 1 Axes>"
      ]
     },
     "metadata": {
      "needs_background": "light"
     },
     "output_type": "display_data"
    }
   ],
   "source": [
    "test_acc = []\n",
    "train_acc = []\n",
    "depth = []\n",
    "for i in range(1,20):\n",
    "    tree = dec_tree(X_train, y_train, i)\n",
    "    y_pred_test = pred(X_test, tree)\n",
    "    y_pred_train = pred(X_train, tree)\n",
    "    test_acc.append(accuracy_score(y_test,y_pred_test)*100)\n",
    "    train_acc.append(accuracy_score(y_train,y_pred_train)*100)\n",
    "    depth.append(i)\n",
    "    \n",
    "plt.xlabel('Depth')\n",
    "plt.ylabel('Accuracy')\n",
    "plt.plot(depth,test_acc, label='Test')\n",
    "plt.plot(depth,train_acc,label='Train')\n",
    "plt.legend(loc='upper right')\n",
    "plt.show()"
   ]
  },
  {
   "cell_type": "code",
   "execution_count": 68,
   "metadata": {},
   "outputs": [
    {
     "data": {
      "text/plain": [
       "DecisionTreeClassifier(class_weight=None, criterion='gini', max_depth=10,\n",
       "                       max_features=None, max_leaf_nodes=None,\n",
       "                       min_impurity_decrease=0.0, min_impurity_split=None,\n",
       "                       min_samples_leaf=1, min_samples_split=2,\n",
       "                       min_weight_fraction_leaf=0.0, presort=False,\n",
       "                       random_state=42, splitter='best')"
      ]
     },
     "execution_count": 68,
     "metadata": {},
     "output_type": "execute_result"
    }
   ],
   "source": [
    "#let's try max_depth=10\n",
    "\n",
    "tree_4 = DecisionTreeClassifier(criterion='gini',max_depth=10, random_state=42)\n",
    "tree_4.fit(X_test, y_test)"
   ]
  },
  {
   "cell_type": "code",
   "execution_count": 69,
   "metadata": {},
   "outputs": [],
   "source": [
    "pred_4 = tree_4.predict(X_test)"
   ]
  },
  {
   "cell_type": "code",
   "execution_count": 70,
   "metadata": {},
   "outputs": [
    {
     "name": "stdout",
     "output_type": "stream",
     "text": [
      "              precision    recall  f1-score   support\n",
      "\n",
      "        high       0.87      0.63      0.73      1047\n",
      "         low       0.91      0.98      0.94      3887\n",
      "\n",
      "    accuracy                           0.90      4934\n",
      "   macro avg       0.89      0.80      0.84      4934\n",
      "weighted avg       0.90      0.90      0.90      4934\n",
      "\n",
      "[[ 664  383]\n",
      " [  96 3791]]\n"
     ]
    }
   ],
   "source": [
    "print(classification_report(y_test,pred_4))\n",
    "print(confusion_matrix(y_test,pred_4))"
   ]
  },
  {
   "cell_type": "code",
   "execution_count": 50,
   "metadata": {},
   "outputs": [
    {
     "name": "stdout",
     "output_type": "stream",
     "text": [
      "Accuracy on training set: 0.813\n",
      "Accuracy on test set: 0.903\n"
     ]
    }
   ],
   "source": [
    "print(\"Accuracy on training set: {:.3f}\".format(tree_4.score(X_train, y_train)))\n",
    "print(\"Accuracy on test set: {:.3f}\".format(tree_4.score(X_test, y_test)))"
   ]
  },
  {
   "cell_type": "code",
   "execution_count": 51,
   "metadata": {},
   "outputs": [
    {
     "name": "stdout",
     "output_type": "stream",
     "text": [
      "Cross-validation score:[0.83592167 0.85       0.85472973 0.83040541 0.8277027  0.83851351\n",
      " 0.86148649 0.85743243 0.84594595 0.85337838]\n",
      "\n",
      "Average Cross-validation score:0.8455516269138821\n",
      "\n"
     ]
    }
   ],
   "source": [
    "#Applying K-fold cross validation with 10 splits for model trained with max_depth=4\n",
    "from sklearn.model_selection import KFold\n",
    "from sklearn.model_selection import cross_val_score\n",
    "kfold = KFold(n_splits=10)\n",
    "score=cross_val_score(tree_4,X = X_train, y = y_train, cv=kfold)\n",
    "print('Cross-validation score:{}\\n'.format(score))\n",
    "print('Average Cross-validation score:{}\\n'.format(score.mean()))"
   ]
  },
  {
   "cell_type": "markdown",
   "metadata": {},
   "source": [
    "# Boosting"
   ]
  },
  {
   "cell_type": "code",
   "execution_count": 52,
   "metadata": {},
   "outputs": [
    {
     "name": "stdout",
     "output_type": "stream",
     "text": [
      "Confusion Matrix:  [[ 710  337]\n",
      " [ 306 3581]]\n",
      "Accuracy Score:  86.96797730036482\n",
      "Classsification Report:                precision    recall  f1-score   support\n",
      "\n",
      "        high       0.70      0.68      0.69      1047\n",
      "         low       0.91      0.92      0.92      3887\n",
      "\n",
      "    accuracy                           0.87      4934\n",
      "   macro avg       0.81      0.80      0.80      4934\n",
      "weighted avg       0.87      0.87      0.87      4934\n",
      "\n"
     ]
    }
   ],
   "source": [
    "dt = DecisionTreeClassifier(criterion = \"gini\", random_state = 100) \n",
    "clf_boost = AdaBoostClassifier(n_estimators=50,base_estimator=dt,learning_rate=1)\n",
    "clf_boost.fit(X_train,y_train)\n",
    "y_pred_boost1 = clf_boost.predict(X_test)\n",
    "cal_accuracy(y_test, y_pred_boost1)"
   ]
  },
  {
   "cell_type": "code",
   "execution_count": 53,
   "metadata": {},
   "outputs": [
    {
     "data": {
      "image/png": "[encoded data removed]",
      "text/plain": [
       "<Figure size 432x288 with 1 Axes>"
      ]
     },
     "metadata": {
      "needs_background": "light"
     },
     "output_type": "display_data"
    }
   ],
   "source": [
    "test_acc  = []\n",
    "train_acc = []\n",
    "depth = []\n",
    "for i in range(1,20):\n",
    "    dt = DecisionTreeClassifier(criterion = \"gini\", random_state = 100,max_depth=i) \n",
    "    clf_boost1 = AdaBoostClassifier(n_estimators=50, base_estimator=dt ,learning_rate=1)\n",
    "    clf_boost1.fit(X_train,y_train)\n",
    "    y_pred_boost = clf_boost1.predict(X_test)\n",
    "    y_pred_boost_train = clf_boost1.predict(X_train)\n",
    "    test_acc.append(accuracy_score(y_test,y_pred_boost)*100)\n",
    "    train_acc.append(accuracy_score(y_train,y_pred_boost_train)*100)\n",
    "    depth.append(i)\n",
    "    \n",
    "    \n",
    "plt.xlabel('Depth')\n",
    "plt.ylabel('Accuracy')\n",
    "plt.plot(depth,test_acc,label='Test')\n",
    "plt.plot(depth,train_acc, label='Train')\n",
    "plt.legend(loc='lower right')\n",
    "plt.show()"
   ]
  },
  {
   "cell_type": "code",
   "execution_count": 75,
   "metadata": {},
   "outputs": [
    {
     "name": "stdout",
     "output_type": "stream",
     "text": [
      "Confusion Matrix:  [[ 598  449]\n",
      " [ 270 3617]]\n",
      "Accuracy Score:  85.42764491284962\n",
      "Classsification Report:                precision    recall  f1-score   support\n",
      "\n",
      "        high       0.69      0.57      0.62      1047\n",
      "         low       0.89      0.93      0.91      3887\n",
      "\n",
      "    accuracy                           0.85      4934\n",
      "   macro avg       0.79      0.75      0.77      4934\n",
      "weighted avg       0.85      0.85      0.85      4934\n",
      "\n"
     ]
    }
   ],
   "source": [
    "#Decision Tree with best depth\n",
    "clf_gini = dec_tree(X_train, y_train,12)\n",
    "y_pred_tree = pred(X_test, clf_gini)\n",
    "cal_accuracy(y_test, y_pred_tree)"
   ]
  },
  {
   "cell_type": "code",
   "execution_count": 76,
   "metadata": {},
   "outputs": [
    {
     "name": "stdout",
     "output_type": "stream",
     "text": [
      "Confusion Matrix:  [[ 727  320]\n",
      " [ 196 3691]]\n",
      "Accuracy Score:  89.54195379002837\n",
      "Classsification Report:                precision    recall  f1-score   support\n",
      "\n",
      "        high       0.79      0.69      0.74      1047\n",
      "         low       0.92      0.95      0.93      3887\n",
      "\n",
      "    accuracy                           0.90      4934\n",
      "   macro avg       0.85      0.82      0.84      4934\n",
      "weighted avg       0.89      0.90      0.89      4934\n",
      "\n"
     ]
    }
   ],
   "source": [
    "dt_2 = DecisionTreeClassifier(criterion = \"gini\", random_state = 100,max_depth=12) \n",
    "clf_boost2 = AdaBoostClassifier(n_estimators=50, base_estimator=dt_2 ,learning_rate=1)\n",
    "clf_boost2.fit(X_train,y_train)\n",
    "y_pred_boost2 = clf_boost2.predict(X_test)\n",
    "cal_accuracy(y_test, y_pred_boost2)"
   ]
  },
  {
   "cell_type": "code",
   "execution_count": 77,
   "metadata": {},
   "outputs": [
    {
     "name": "stdout",
     "output_type": "stream",
     "text": [
      "Confusion Matrix:  [[ 743  304]\n",
      " [ 186 3701]]\n",
      "Accuracy Score:  90.06890960680988\n",
      "Classsification Report:                precision    recall  f1-score   support\n",
      "\n",
      "        high       0.80      0.71      0.75      1047\n",
      "         low       0.92      0.95      0.94      3887\n",
      "\n",
      "    accuracy                           0.90      4934\n",
      "   macro avg       0.86      0.83      0.84      4934\n",
      "weighted avg       0.90      0.90      0.90      4934\n",
      "\n"
     ]
    }
   ],
   "source": [
    "dt_3 = DecisionTreeClassifier(criterion = \"gini\", random_state = 100,max_depth=12) \n",
    "clf_boost3 = AdaBoostClassifier(n_estimators=100, base_estimator=dt_3 ,learning_rate=1)\n",
    "clf_boost3.fit(X_train,y_train)\n",
    "y_pred_boost3 = clf_boost3.predict(X_test)\n",
    "cal_accuracy(y_test, y_pred_boost3)"
   ]
  },
  {
   "cell_type": "code",
   "execution_count": 78,
   "metadata": {},
   "outputs": [
    {
     "name": "stdout",
     "output_type": "stream",
     "text": [
      "Cross-validation score:[0.90141796 0.89662162 0.8972973  0.88783784 0.89662162 0.90337838\n",
      " 0.91216216 0.91283784 0.88783784 0.89391892]\n",
      "\n",
      "Average Cross-validation score:0.8989931474350786\n",
      "\n"
     ]
    }
   ],
   "source": [
    "#Applying K-fold cross validation with 10 splits for model trained with max_depth=12\n",
    "from sklearn.model_selection import KFold\n",
    "from sklearn.model_selection import cross_val_score\n",
    "kfold = KFold(n_splits=10)\n",
    "score=cross_val_score(clf_boost3,X = X_train, y = y_train, cv=kfold)\n",
    "print('Cross-validation score:{}\\n'.format(score))\n",
    "print('Average Cross-validation score:{}\\n'.format(score.mean()))"
   ]
  },
  {
   "cell_type": "markdown",
   "metadata": {},
   "source": [
    "# Model Comparison"
   ]
  },
  {
   "cell_type": "code",
   "execution_count": 79,
   "metadata": {},
   "outputs": [],
   "source": [
    "accuracy=[accuracy_score(y_test,y_pred1),accuracy_score(y_test,y_pred2),accuracy_score(y_test,y_pred3),accuracy_score(y_test,pred_4),accuracy_score(y_test,y_pred_boost3)]\n",
    "Functions=['SVM_Linear','SVM_rbf','SVM_Sigmoid','Decision_tree','Adaboost']"
   ]
  },
  {
   "cell_type": "code",
   "execution_count": 80,
   "metadata": {},
   "outputs": [
    {
     "data": {
      "text/plain": [
       "(0.7, 1.0)"
      ]
     },
     "execution_count": 80,
     "metadata": {},
     "output_type": "execute_result"
    },
    {
     "data": {
      "image/png": "[encoded data removed]",
      "text/plain": [
       "<Figure size 432x288 with 1 Axes>"
      ]
     },
     "metadata": {
      "needs_background": "light"
     },
     "output_type": "display_data"
    }
   ],
   "source": [
    "plt.barh(Functions,accuracy,alpha=1)\n",
    "plt.xlabel(\"Accuracy\")\n",
    "plt.ylabel(\"Algorithms\")\n",
    "plt.title(\"Algorithm Comparison\")\n",
    "plt.xlim([0.7, 1.0])"
   ]
  },
  {
   "cell_type": "code",
   "execution_count": null,
   "metadata": {},
   "outputs": [],
   "source": []
  }
 ],
 "metadata": {
  "kernelspec": {
   "display_name": "Python 3",
   "language": "python",
   "name": "python3"
  },
  "language_info": {
   "codemirror_mode": {
    "name": "ipython",
    "version": 3
   },
   "file_extension": ".py",
   "mimetype": "text/x-python",
   "name": "python",
   "nbconvert_exporter": "python",
   "pygments_lexer": "ipython3",
   "version": "3.7.1"
  }
 },
 "nbformat": 4,
 "nbformat_minor": 2
}
